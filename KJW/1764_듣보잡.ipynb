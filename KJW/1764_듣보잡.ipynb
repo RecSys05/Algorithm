{
 "cells": [
  {
   "cell_type": "markdown",
   "metadata": {},
   "source": [
    "# 1764_듣보잡\n",
    "241205\n",
    "\n",
    "## 문제\n",
    "\n",
    "박세연이 `듣도 못한 사람의 명단과, 보도 못한 사람의 명단이 주어질 때, 듣도 보도 못한 사람의 명단을 구하는` 프로그램을 작성하시오.\n",
    "\n",
    "## 입력\n",
    "\n",
    "첫째 줄에 `듣도 못한 사람의 수 N, 보도 못한 사람의 수 M`이 주어진다. 이어서 둘째 줄부터 `N개의 줄에 걸쳐 듣도 못한 사람의 이름과, N+2째 줄부터 보도 못한 사람의 이름`이 순서대로 주어진다. 이름은 띄어쓰기 없이 알파벳 소문자로만 이루어지며, 그 길이는 20 이하이다. N, M은 500,000 이하의 자연수이다.\n",
    "\n",
    "듣도 못한 사람의 명단에는 중복되는 이름이 없으며, 보도 못한 사람의 명단도 마찬가지이다.\n",
    "\n",
    "## 출력\n",
    "\n",
    "듣보잡의 수와 그 명단을 `사전순`으로 출력한다."
   ]
  },
  {
   "cell_type": "code",
   "execution_count": null,
   "metadata": {},
   "outputs": [],
   "source": [
    "N, M = map(int, input().split())\n",
    "\n",
    "listen = set()\n",
    "see = set()\n",
    "\n",
    "for i in range(N):\n",
    "    listen.add(input())\n",
    "for j in range(M):\n",
    "    see.add(input())\n",
    "    \n",
    "intersection = listen.intersection(see)\n",
    "intersection = sorted(intersection)\n",
    "\n",
    "print(len(intersection))\n",
    "for name in intersection:\n",
    "    print(name)\n"
   ]
  }
 ],
 "metadata": {
  "kernelspec": {
   "display_name": "base",
   "language": "python",
   "name": "python3"
  },
  "language_info": {
   "codemirror_mode": {
    "name": "ipython",
    "version": 3
   },
   "file_extension": ".py",
   "mimetype": "text/x-python",
   "name": "python",
   "nbconvert_exporter": "python",
   "pygments_lexer": "ipython3",
   "version": "3.12.4"
  }
 },
 "nbformat": 4,
 "nbformat_minor": 2
}

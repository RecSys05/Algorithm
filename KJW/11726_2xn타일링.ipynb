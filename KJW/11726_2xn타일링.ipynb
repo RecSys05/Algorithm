{
 "cells": [
  {
   "cell_type": "markdown",
   "metadata": {},
   "source": [
    "문제  \n",
    "2×n 크기의 직사각형을 1×2, 2×1 타일로 채우는 방법의 수를 구하는 프로그램을 작성하시오.  \n",
    "  \n",
    "입력  \n",
    "첫째 줄에 n이 주어진다. (1 ≤ n ≤ 1,000)  \n",
    "  \n",
    "출력  \n",
    "첫째 줄에 2×n 크기의 직사각형을 채우는 방법의 수를 10,007로 나눈 나머지를 출력한다.  "
   ]
  },
  {
   "cell_type": "markdown",
   "metadata": {},
   "source": [
    "2xn 이기 때문에 크기가 1x2인 타일의 위치만 고려하고 나면 나머지는 자동  \n",
    "\n",
    "1x2 타일의 개수를 k개라 하면   \n",
    "k=0일때부터 k=n//2까지 배열의 합  \n",
    "=> 예전 확통 문제에서 같은것이 있는 순열? 느낌 \n",
    "n=5라고 하면   \n",
    "k=0일때 5(전체개수)C0(1x2타일 개수) = 1  \n",
    "k=1일때 4(전체개수 = k=1이면 5칸에서 남는건 3칸, 그래서 전체개수는 1+3=4인데 3칸도 모두 동일하므로 조합 사용)  \n",
    "k=2일때 3C2 = 3  \n",
    "=> 1+4+3=8  \n",
    "  \n",
    "n=4  \n",
    "k=0 -> 4C0=1  \n",
    "k=1 -> 3C1=3  \n",
    "k=2 -> 2C2=1  \n",
    "  \n",
    "죄종적으로 만든 식  \n",
    "nCk = nC0 + n-1C1 + n-2C2 + ... +   \n"
   ]
  },
  {
   "cell_type": "code",
   "execution_count": null,
   "metadata": {},
   "outputs": [],
   "source": [
    "#정답\n",
    "n = int(input())\n",
    "k = n // 2\n",
    "import math\n",
    "def combination_count(n,r):\n",
    "    return math.comb(n,r)\n",
    "\n",
    "all_cnt = 0\n",
    "for i in range(k+1):\n",
    "    all_cnt += combination_count(n-i,i)\n",
    "    \n",
    "print(all_cnt%10007)"
   ]
  },
  {
   "cell_type": "code",
   "execution_count": null,
   "metadata": {},
   "outputs": [],
   "source": [
    "f(n-2)*2 +f(n-1)\n",
    "|| 중복 f(n-2)+f(n-1)이 됨"
   ]
  },
  {
   "cell_type": "code",
   "execution_count": null,
   "metadata": {},
   "outputs": [],
   "source": [
    "# 시간초과, 런타임에러\n",
    "# def fibo(n):\n",
    "#     if n == 0:\n",
    "#         return 0\n",
    "#     elif n == 1:\n",
    "#         return 1\n",
    "#     else:\n",
    "#         return fibo(n-1) + fibo(n-2)\n",
    "    \n",
    "# n = int(input())\n",
    "# print(fibo(n+1)%10007)"
   ]
  },
  {
   "cell_type": "markdown",
   "metadata": {},
   "source": [
    "2xn이라는 것이 아주 큰 힌트\n",
    "2x1 -> 1가지\n",
    "2x2 -> 2가지(1x2 두 개 또는 2x1 두개)\n",
    "2x3 부터는 2x1 뒤에 2x2추가하는 방법의 수 또는 2x2 뒤에 2x1 추가하는 방법 수\n",
    "\n",
    "1\n",
    "2\n",
    "3\n",
    "5\n",
    "8\n",
    "13"
   ]
  },
  {
   "cell_type": "code",
   "execution_count": null,
   "metadata": {},
   "outputs": [],
   "source": [
    "# 정답\n",
    "n = int(input())\n",
    "\n",
    "cnt = [0] * 10007\n",
    "cnt[1] = 1\n",
    "cnt[2] = 2\n",
    "\n",
    "for i in range(3,n+1):\n",
    "    cnt[i] = (cnt[i-1] + cnt[i-2]) \n",
    "\n",
    "print(cnt[n]%10007)"
   ]
  }
 ],
 "metadata": {
  "kernelspec": {
   "display_name": "Python 3",
   "language": "python",
   "name": "python3"
  },
  "language_info": {
   "codemirror_mode": {
    "name": "ipython",
    "version": 3
   },
   "file_extension": ".py",
   "mimetype": "text/x-python",
   "name": "python",
   "nbconvert_exporter": "python",
   "pygments_lexer": "ipython3",
   "version": "3.9.5"
  }
 },
 "nbformat": 4,
 "nbformat_minor": 2
}

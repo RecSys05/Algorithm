{
 "cells": [
  {
   "cell_type": "markdown",
   "metadata": {},
   "source": [
    "문제  \n",
    "세준이는 성형수술을 한 후에 병원에 너무 오래 입원해 있었다.   \n",
    "이제 세준이가 병원에 입원한 동안 자기를 생각해준 사람들에게 감사하다고 말할 차례이다.  \n",
    "  \n",
    "세준이를 생각해준 사람은 총 N명이 있다. 사람의 번호는 1번부터 N번까지 있다. 세준이가 i번 사람에게 인사를 하면 L[i]만큼의 체력을 잃고, J[i]만큼의 기쁨을 얻는다. 세준이는 각각의 사람에게 최대 1번만 말할 수 있다.  \n",
    "  \n",
    "세준이의 목표는 주어진 체력내에서 최대한의 기쁨을 느끼는 것이다.   세준이의 체력은 100이고, 기쁨은 0이다. 만약 세준이의 체력이 0이나 음수가 되면, 죽어서 아무런 기쁨을 못 느낀 것이 된다. 세준이가 얻을 수 있는 최대 기쁨을 출력하는 프로그램을 작성하시오.  \n",
    "  \n",
    "입력  \n",
    "첫째 줄에 사람의 수 N(≤ 20)이 들어온다. 둘째 줄에는 각각의 사람에게 인사를 할 때, 잃는 체력이 1번 사람부터 순서대로 들어오고, 셋째 줄에는 각각의 사람에게 인사를 할 때, 얻는 기쁨이 1번 사람부터 순서대로 들어온다. 체력과 기쁨은 100보다 작거나 같은 자연수 또는 0이다.  \n",
    "  \n",
    "출력  \n",
    "첫째 줄에 세준이가 얻을 수 있는 최대 기쁨을 출력한다.  "
   ]
  },
  {
   "cell_type": "code",
   "execution_count": null,
   "metadata": {},
   "outputs": [],
   "source": [
    "N = int(input())\n",
    "\n",
    "L = list(map(int, input().split()))\n",
    "J = list(map(int, input().split()))\n",
    "\n",
    "finalJ = [0] * (N+1)    \n",
    "if 100-L[0]>0:\n",
    "    finalJ[0] = J[0]\n",
    "    \n",
    "strength = 100\n",
    "def knapsack(strength, L, J, N):\n",
    "    k = [[0 for x in range(strength+1)] for x in range(N+1)]\n",
    "    for i in range(N+1):\n",
    "        for w in range(W+1):\n",
    "            if i==0 or w==0:\n",
    "                k[i][w] = 0\n",
    "            elif L[i-1] <= w:\n",
    "                k[i][w] = max(J[i-1] + k[i-1][w-L[i-1]], k[i-1][w])\n",
    "            else:\n",
    "                k[i][w] = k[i-1][w]\n",
    "    return k[N][strength]"
   ]
  },
  {
   "cell_type": "code",
   "execution_count": null,
   "metadata": {},
   "outputs": [],
   "source": []
  }
 ],
 "metadata": {
  "kernelspec": {
   "display_name": "Python 3",
   "language": "python",
   "name": "python3"
  },
  "language_info": {
   "name": "python",
   "version": "3.9.5"
  }
 },
 "nbformat": 4,
 "nbformat_minor": 2
}

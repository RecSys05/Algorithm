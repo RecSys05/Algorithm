{
 "cells": [
  {
   "cell_type": "markdown",
   "metadata": {},
   "source": [
    "문제\n",
    "다솜이는 사람의 마음을 읽을 수 있는 기계를 가지고 있다. 다솜이는 이 기계를 이용해서 2008년 4월 9일 국회의원 선거를 조작하려고 한다.\n",
    "\n",
    "다솜이의 기계는 각 사람들이 누구를 찍을 지 미리 읽을 수 있다. 어떤 사람이 누구를 찍을 지 정했으면, 반드시 선거때 그 사람을 찍는다.\n",
    "\n",
    "현재 형택구에 나온 국회의원 후보는 N명이다. 다솜이는 이 기계를 이용해서 그 마을의 주민 M명의 마음을 모두 읽었다.\n",
    "\n",
    "다솜이는 기호 1번이다. 다솜이는 사람들의 마음을 읽어서 자신을 찍지 않으려는 사람을 돈으로 매수해서 국회의원에 당선이 되게 하려고 한다. 다른 모든 사람의 득표수 보다 많은 득표수를 가질 때, 그 사람이 국회의원에 당선된다.\n",
    "\n",
    "예를 들어서, 마음을 읽은 결과 기호 1번이 5표, 기호 2번이 7표, 기호 3번이 7표 라고 한다면, 다솜이는 2번 후보를 찍으려고 하던 사람 1명과, 3번 후보를 찍으려고 하던 사람 1명을 돈으로 매수하면, 국회의원에 당선이 된다.\n",
    "\n",
    "돈으로 매수한 사람은 반드시 다솜이를 찍는다고 가정한다.\n",
    "\n",
    "다솜이가 매수해야하는 사람의 최솟값을 출력하는 프로그램을 작성하시오.\n",
    "\n",
    "입력\n",
    "첫째 줄에 후보의 수 N이 주어진다. 둘째 줄부터 차례대로 기호 1번을 찍으려고 하는 사람의 수, 기호 2번을 찍으려고 하는 수, 이렇게 총 N개의 줄에 걸쳐 입력이 들어온다. N은 50보다 작거나 같은 자연수이고, 득표수는 100보다 작거나 같은 자연수이다.\n",
    "\n",
    "출력\n",
    "첫째 줄에 다솜이가 매수해야 하는 사람의 최솟값을 출력한다."
   ]
  },
  {
   "cell_type": "markdown",
   "metadata": {},
   "source": [
    "### 힙 heapq\n",
    "- heapq 라이브러리 -> 최소 힙 min-heap만 지원\n",
    "- 값이 작은 순서대로 우선순위를 가지며 정렬됨"
   ]
  },
  {
   "cell_type": "markdown",
   "metadata": {},
   "source": [
    "**가장 많은** 표를 가진 후보를 매번 찾아야 됨\n",
    "\n",
    "-> **최대 힙** 필요\n",
    "\n",
    "-> 음수 기호 붙여서 최대 힙을 우회적으로 구현  "
   ]
  },
  {
   "cell_type": "code",
   "execution_count": null,
   "metadata": {},
   "outputs": [],
   "source": [
    "import heapq\n",
    "\n",
    "N = int(input())\n",
    "dasom = int(input())\n",
    "others = []\n",
    "\n",
    "for _ in range(N-1):\n",
    "    heapq.heappush(others, -int(input())) # 값을 음수로 저장하여 최대 힙처럼 동작하도록 만듦\n",
    "    \n",
    "buy = 0\n",
    "\n",
    "while others:\n",
    "    max_vote = -heapq.heappop(others) # 힙에서 꺼낼 때 다시 음수로 변환->원래 값 복원\n",
    "    print(max_vote)\n",
    "    \n",
    "    if dasom > max_vote:\n",
    "        break\n",
    "    \n",
    "    dasom += 1\n",
    "    max_vote -= 1\n",
    "    buy += 1\n",
    "    \n",
    "    heapq.heappush(others, -max_vote) # 좀 전에 꺼내서 양수로 복원한거 다시 음수로 넣어서 최대 힙처럼 동작하도록 함\n",
    "\n",
    "print(buy)"
   ]
  }
 ],
 "metadata": {
  "kernelspec": {
   "display_name": "base",
   "language": "python",
   "name": "python3"
  },
  "language_info": {
   "name": "python",
   "version": "3.12.4"
  }
 },
 "nbformat": 4,
 "nbformat_minor": 2
}

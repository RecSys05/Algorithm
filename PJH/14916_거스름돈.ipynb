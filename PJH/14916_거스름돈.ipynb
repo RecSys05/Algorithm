{
 "cells": [
  {
   "cell_type": "markdown",
   "metadata": {},
   "source": [
    "14916 거스름돈"
   ]
  },
  {
   "cell_type": "markdown",
   "metadata": {},
   "source": [
    "문제\n",
    "춘향이는 편의점 카운터에서 일한다.\n",
    "\n",
    "손님이 2원짜리와 5원짜리로만 거스름돈을 달라고 한다. 2원짜리 동전과 5원짜리 동전은 무한정 많이 가지고 있다. 동전의 개수가 최소가 되도록 거슬러 주어야 한다. 거스름돈이 n인 경우, 최소 동전의 개수가 몇 개인지 알려주는 프로그램을 작성하시오.\n",
    "\n",
    "예를 들어, 거스름돈이 15원이면 5원짜리 3개를, 거스름돈이 14원이면 5원짜리 2개와 2원짜리 2개로 총 4개를, 거스름돈이 13원이면 5원짜리 1개와 2원짜리 4개로 총 5개를 주어야 동전의 개수가 최소가 된다.\n",
    "\n",
    "입력\n",
    "첫째 줄에 거스름돈 액수 n(1 ≤ n ≤ 100,000)이 주어진다.\n",
    "\n",
    "출력\n",
    "거스름돈 동전의 최소 개수를 출력한다. 만약 거슬러 줄 수 없으면 -1을 출력한다."
   ]
  },
  {
   "cell_type": "code",
   "execution_count": 6,
   "metadata": {},
   "outputs": [
    {
     "name": "stdout",
     "output_type": "stream",
     "text": [
      "-1\n"
     ]
    }
   ],
   "source": [
    "m = int(input())\n",
    "\n",
    "if m % 5 == 0:\n",
    "    print(m//5)\n",
    "\n",
    "else:\n",
    "    count = 0  # 2원짜리 개수\n",
    "    while m >= 0:\n",
    "        if m % 5 == 0:  # 반복 중 m이 5로 나누어지면\n",
    "            print(m//5 + count)\n",
    "            break\n",
    "        m -= 2\n",
    "        count += 1\n",
    "    else:\n",
    "        print(-1)\n",
    "\n"
   ]
  },
  {
   "cell_type": "code",
   "execution_count": 2,
   "metadata": {},
   "outputs": [
    {
     "name": "stdout",
     "output_type": "stream",
     "text": [
      "4\n"
     ]
    }
   ],
   "source": [
    "N = int(input())\n",
    "\n",
    "change = [float('inf')] * (N+1)\n",
    "change[0] = 0\n",
    "\n",
    "coins = [2, 5]\n",
    "\n",
    "for coin in coins:\n",
    "    for i in range(coin, N+1):\n",
    "        change[i] = min(change[i], change[i-coin]+1)\n",
    "        \n",
    "if change[N] == float('inf'):\n",
    "    print(-1)\n",
    "else:\n",
    "    print(change[N])\n",
    "\n"
   ]
  }
 ],
 "metadata": {
  "kernelspec": {
   "display_name": "base",
   "language": "python",
   "name": "python3"
  },
  "language_info": {
   "codemirror_mode": {
    "name": "ipython",
    "version": 3
   },
   "file_extension": ".py",
   "mimetype": "text/x-python",
   "name": "python",
   "nbconvert_exporter": "python",
   "pygments_lexer": "ipython3",
   "version": "3.11.7"
  }
 },
 "nbformat": 4,
 "nbformat_minor": 2
}

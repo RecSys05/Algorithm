{
 "cells": [
  {
   "cell_type": "markdown",
   "metadata": {},
   "source": [
    "배부른 마라토너"
   ]
  },
  {
   "cell_type": "markdown",
   "metadata": {},
   "source": [
    "문제  \n",
    "마라토너라면 국적과 나이를 불문하고 누구나 참가하고 싶어하는 백준 마라톤 대회가 열린다. 42.195km를 달리는 이 마라톤은 모두가 참가하고 싶어했던 만큼 매년 모두가 완주해왔다. 단, 한 명만 빼고! \n",
    "\n",
    "모두가 참가하고 싶어서 안달인데 이런 백준 마라톤 대회에 참가해 놓고 완주하지 못한 배부른 참가자 한 명은 누굴까?\n",
    "\n",
    "입력  \n",
    "첫째 줄에는 참가자 수 N이 주어진다. (1 ≤ N ≤ 105)\n",
    "\n",
    "N개의 줄에는 참가자의 이름이 주어진다.\n",
    "\n",
    "추가적으로 주어지는 N-1개의 줄에는 완주한 참가자의 이름이 쓰여져 있다. \n",
    "\n",
    "참가자들의 이름은 길이가 1보다 크거나 같고, 20보다 작거나 같은 문자열이고, 알파벳 소문자로만 이루어져 있다.\n",
    "\n",
    "참가자들 중엔 동명이인이 있을 수도 있다. \n",
    "\n",
    "출력  \n",
    "마라톤을 완주하지 못한 참가자의 이름을 출력한다."
   ]
  },
  {
   "cell_type": "code",
   "execution_count": null,
   "metadata": {},
   "outputs": [],
   "source": [
    "3\n",
    "leo\n",
    "kiki\n",
    "eden\n",
    "eden\n",
    "kiki"
   ]
  },
  {
   "cell_type": "code",
   "execution_count": null,
   "metadata": {},
   "outputs": [
    {
     "name": "stdout",
     "output_type": "stream",
     "text": [
      "leo\n"
     ]
    }
   ],
   "source": [
    "# import sys\n",
    "# input = sys.stdin.readline\n",
    "n = int(input())\n",
    "count={}\n",
    "for _ in range(n):\n",
    "    p = input()\n",
    "    if p in count:\n",
    "        count[p] += 1\n",
    "    else:\n",
    "        count[p] = 1\n",
    "for _ in range(n-1):\n",
    "    p = input()\n",
    "    if p in count:\n",
    "        count[p] -= 1\n",
    "\n",
    "for a, b in count.items():\n",
    "    if b > 0:\n",
    "        print(a)\n",
    "        break"
   ]
  }
 ],
 "metadata": {
  "kernelspec": {
   "display_name": "Python 3",
   "language": "python",
   "name": "python3"
  },
  "language_info": {
   "codemirror_mode": {
    "name": "ipython",
    "version": 3
   },
   "file_extension": ".py",
   "mimetype": "text/x-python",
   "name": "python",
   "nbconvert_exporter": "python",
   "pygments_lexer": "ipython3",
   "version": "3.8.10"
  }
 },
 "nbformat": 4,
 "nbformat_minor": 2
}

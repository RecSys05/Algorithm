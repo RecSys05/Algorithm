{
 "cells": [
  {
   "cell_type": "code",
   "execution_count": null,
   "metadata": {
    "vscode": {
     "languageId": "plaintext"
    }
   },
   "outputs": [],
   "source": [
    "N, target = map(int,input().split())\n",
    "\n",
    "dis_list = []\n",
    "\n",
    "for i in range(N):\n",
    "    x = list(map(int, input().split()))  \n",
    "    dis_list.append(x)\n",
    "\n",
    "dis_list.sort(key = lambda x : (x[0],x[1],x[2]))\n",
    "\n",
    "num_list = [i for i in range(target+1) ]\n",
    "\n",
    "for x in dis_list :\n",
    "    q,w,e = x\n",
    "    if w <= target :\n",
    "        num_list[w] = min(num_list[q]+e,num_list[w])\n",
    "        for idx, value in enumerate(range(w, target + 1)):\n",
    "            \n",
    "            num_list[idx+w] = min(num_list[w] + idx, num_list[w+idx])\n",
    "\n",
    "print(num_list[target])   "
   ]
  }
 ],
 "metadata": {
  "language_info": {
   "name": "python"
  }
 },
 "nbformat": 4,
 "nbformat_minor": 2
}

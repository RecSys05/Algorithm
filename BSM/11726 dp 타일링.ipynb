{
 "cells": [
  {
   "cell_type": "code",
   "execution_count": null,
   "metadata": {
    "vscode": {
     "languageId": "plaintext"
    }
   },
   "outputs": [],
   "source": [
    "n = int(input())\n",
    "\n",
    "num_list = [0] * 1001\n",
    "\n",
    "num_list[1] = 1\n",
    "num_list[2] = 2\n",
    "\n",
    "for i in range(3,1000+1) :\n",
    "    num_list[i] = (num_list[i-1] + num_list[i-2]) % 10007\n",
    "\n",
    "print(num_list[n])"
   ]
  }
 ],
 "metadata": {
  "language_info": {
   "name": "python"
  }
 },
 "nbformat": 4,
 "nbformat_minor": 2
}

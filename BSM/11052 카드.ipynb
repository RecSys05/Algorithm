{
 "cells": [
  {
   "cell_type": "code",
   "execution_count": null,
   "metadata": {
    "vscode": {
     "languageId": "plaintext"
    }
   },
   "outputs": [],
   "source": [
    "n = int(input())\n",
    "\n",
    "price = list(map(int,input().split()))\n",
    "\n",
    "num_list = [ 0 for _ in range(n+1)]\n",
    "\n",
    "\n",
    "for i in range(1,n+1) :\n",
    "    for j in range(1,i+1) :\n",
    "        num_list[i] = max(num_list[i], num_list[i-j]+ price[j-1])\n",
    "\n",
    "print(num_list[n])"
   ]
  }
 ],
 "metadata": {
  "language_info": {
   "name": "python"
  }
 },
 "nbformat": 4,
 "nbformat_minor": 2
}

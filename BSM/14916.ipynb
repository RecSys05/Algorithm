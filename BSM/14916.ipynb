{
 "cells": [
  {
   "cell_type": "code",
   "execution_count": null,
   "metadata": {
    "vscode": {
     "languageId": "plaintext"
    }
   },
   "outputs": [],
   "source": [
    "n = int(input())\n",
    "\n",
    "c = 0\n",
    "\n",
    "while n != 0 :\n",
    "    if n == 1 or n ==3 :\n",
    "        c = -1 \n",
    "        break\n",
    "    c += n//5\n",
    "    n = n % 5\n",
    "    if n % 2 == 0 :\n",
    "        pass\n",
    "    else :\n",
    "        n += 5\n",
    "        c -= 1\n",
    "    c += n//2\n",
    "    n = n % 2\n",
    "\n",
    "print(c)"
   ]
  }
 ],
 "metadata": {
  "language_info": {
   "name": "python"
  }
 },
 "nbformat": 4,
 "nbformat_minor": 2
}

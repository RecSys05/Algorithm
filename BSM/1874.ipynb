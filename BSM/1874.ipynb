{
 "cells": [
  {
   "cell_type": "code",
   "execution_count": 6,
   "metadata": {},
   "outputs": [
    {
     "name": "stdout",
     "output_type": "stream",
     "text": [
      "NO\n"
     ]
    }
   ],
   "source": [
    "n = int(input())\n",
    "\n",
    "stack = []\n",
    "target = []\n",
    "count = 1\n",
    "\n",
    "for i in range(1,n+1) :\n",
    "    num = int(input())\n",
    "\n",
    "    while count <= num :\n",
    "        stack.append(count)\n",
    "        target.append('+')\n",
    "        count +=1\n",
    "    \n",
    "    if stack[-1] == num :\n",
    "        stack.pop()\n",
    "        target.append('-')\n",
    "    \n",
    "    else :\n",
    "        break\n",
    "\n",
    "if len(stack) != 0 :\n",
    "    print('NO')\n",
    "else :\n",
    "    for i in target :\n",
    "        print(i)"
   ]
  }
 ],
 "metadata": {
  "kernelspec": {
   "display_name": "Python 3",
   "language": "python",
   "name": "python3"
  },
  "language_info": {
   "codemirror_mode": {
    "name": "ipython",
    "version": 3
   },
   "file_extension": ".py",
   "mimetype": "text/x-python",
   "name": "python",
   "nbconvert_exporter": "python",
   "pygments_lexer": "ipython3",
   "version": "3.12.6"
  }
 },
 "nbformat": 4,
 "nbformat_minor": 2
}

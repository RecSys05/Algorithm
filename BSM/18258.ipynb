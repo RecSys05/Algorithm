{
 "cells": [
  {
   "cell_type": "code",
   "execution_count": null,
   "metadata": {
    "vscode": {
     "languageId": "plaintext"
    }
   },
   "outputs": [],
   "source": [
    "import sys\n",
    "from collections import deque\n",
    "\n",
    "N = int(sys.stdin.readline())\n",
    "DQ = deque()\n",
    "for _ in range(N):\n",
    "    S = sys.stdin.readline().split()\n",
    "\n",
    "    if S[0] == 'push':  \n",
    "        DQ.append(int(S[1]))\n",
    "\n",
    "    if S[0] == 'pop':   \n",
    "        if DQ:   \n",
    "            print(DQ.popleft())\n",
    "        else:\n",
    "            print(-1)\n",
    "\n",
    "    if S[0] == 'size':  \n",
    "        print(len(DQ))\n",
    "\n",
    "    if S[0] == 'empty':\n",
    "        if DQ:\n",
    "            print('0')\n",
    "        else:\n",
    "            print('1')\n",
    "\n",
    "    if S[0] == 'front':\n",
    "        if DQ:\n",
    "            print(DQ[0])\n",
    "        else:\n",
    "            print(-1)\n",
    "\n",
    "    if S[0] == 'back':\n",
    "        if DQ:\n",
    "            print(DQ[-1])\n",
    "        else:\n",
    "            print(-1)\n"
   ]
  }
 ],
 "metadata": {
  "language_info": {
   "name": "python"
  }
 },
 "nbformat": 4,
 "nbformat_minor": 2
}

{
 "cells": [
  {
   "cell_type": "code",
   "execution_count": null,
   "metadata": {
    "vscode": {
     "languageId": "plaintext"
    }
   },
   "outputs": [],
   "source": [
    "import sys\n",
    "from collections import deque\n",
    "\n",
    "n = int(sys.stdin.readline())\n",
    "\n",
    "a = list(map(int,sys.stdin.readline().split()))\n",
    "b = list(map(int,sys.stdin.readline().split()))\n",
    "\n",
    "m = int(sys.stdin.readline())\n",
    "\n",
    "insert_list = list(map(int,sys.stdin.readline().split()))\n",
    "\n",
    "questack = deque()\n",
    "\n",
    "for i in range(n):\n",
    "    if a[i] == 0 :\n",
    "        questack.appendleft(b[i])\n",
    "\n",
    "for x in insert_list :\n",
    "    questack.append(x)\n",
    "    x = questack.popleft()\n",
    "    print(x, end = ' ')"
   ]
  }
 ],
 "metadata": {
  "language_info": {
   "name": "python"
  }
 },
 "nbformat": 4,
 "nbformat_minor": 2
}

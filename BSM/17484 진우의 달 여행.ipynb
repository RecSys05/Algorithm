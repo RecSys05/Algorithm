{
 "cells": [
  {
   "cell_type": "code",
   "execution_count": 3,
   "metadata": {},
   "outputs": [],
   "source": [
    "row, col = list(map(int,input().split()))"
   ]
  },
  {
   "cell_type": "code",
   "execution_count": 4,
   "metadata": {},
   "outputs": [],
   "source": [
    "mov = [0,1,2,3]\n",
    "map_list = []\n",
    "for _ in range(row) :\n",
    "    map_list.append(list(map(int,input().split())))\n",
    "\n"
   ]
  },
  {
   "cell_type": "code",
   "execution_count": null,
   "metadata": {},
   "outputs": [],
   "source": [
    "count = 0\n"
   ]
  },
  {
   "cell_type": "code",
   "execution_count": 10,
   "metadata": {},
   "outputs": [],
   "source": [
    "mp = map_list.copy()"
   ]
  },
  {
   "cell_type": "code",
   "execution_count": 11,
   "metadata": {},
   "outputs": [
    {
     "data": {
      "text/plain": [
       "[[5, 8, 5, 1],\n",
       " [3, 5, 8, 4],\n",
       " [9, 77, 65, 5],\n",
       " [2, 1, 5, 2],\n",
       " [5, 98, 1, 5],\n",
       " [4, 95, 67, 58]]"
      ]
     },
     "execution_count": 11,
     "metadata": {},
     "output_type": "execute_result"
    }
   ],
   "source": [
    "mp"
   ]
  },
  {
   "cell_type": "code",
   "execution_count": 12,
   "metadata": {},
   "outputs": [
    {
     "data": {
      "text/plain": [
       "[0, 1, 2, 3]"
      ]
     },
     "execution_count": 12,
     "metadata": {},
     "output_type": "execute_result"
    }
   ],
   "source": [
    "mov"
   ]
  },
  {
   "cell_type": "code",
   "execution_count": null,
   "metadata": {},
   "outputs": [],
   "source": [
    "coordinate = 0"
   ]
  },
  {
   "cell_type": "code",
   "execution_count": null,
   "metadata": {},
   "outputs": [],
   "source": [
    "for i in range(col) :\n",
    "    coordinate = i\n",
    "    start = mp[0].pop(coordinate)\n",
    "    for j in range(0,row) : \n",
    "        if coordinate == 0 :\n",
    "            coordinate = 1\n",
    "            start += mov[j][coordinate]\n",
    "        elif coordinate == 1 :\n",
    "            if mov[j][0] > mov[j][2]:\n",
    "                start += mov[j][0]\n",
    "                coordinate = 0\n",
    "            else :\n",
    "                start += mov[j][2]\n",
    "                coordinate = 2\n",
    "        elif coordinate == 2 :\n",
    "            if mov[j][1] > mov[j][3]:\n",
    "                start += mov[j][0]\n",
    "                coordinate = 0\n",
    "            else :\n",
    "                start += mov[j][2]\n",
    "                coordinate = 2\n",
    "                    "
   ]
  },
  {
   "cell_type": "code",
   "execution_count": null,
   "metadata": {},
   "outputs": [],
   "source": []
  }
 ],
 "metadata": {
  "kernelspec": {
   "display_name": "Python 3",
   "language": "python",
   "name": "python3"
  },
  "language_info": {
   "codemirror_mode": {
    "name": "ipython",
    "version": 3
   },
   "file_extension": ".py",
   "mimetype": "text/x-python",
   "name": "python",
   "nbconvert_exporter": "python",
   "pygments_lexer": "ipython3",
   "version": "3.12.6"
  }
 },
 "nbformat": 4,
 "nbformat_minor": 2
}

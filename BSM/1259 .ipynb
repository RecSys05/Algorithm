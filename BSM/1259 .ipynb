{
 "cells": [
  {
   "cell_type": "code",
   "execution_count": 19,
   "metadata": {},
   "outputs": [
    {
     "name": "stdout",
     "output_type": "stream",
     "text": [
      "yes\n",
      "yes\n",
      "yes\n",
      "no\n",
      "no\n",
      "yes\n",
      "yes\n",
      "yes\n"
     ]
    }
   ],
   "source": [
    "while True:\n",
    "    num_list = input()\n",
    "    if num_list == '0' :\n",
    "        break\n",
    "    \n",
    "    num_list = list(num_list)\n",
    "    \n",
    "    length = len(num_list)\n",
    "    count = 0\n",
    "\n",
    "    for i in range(0,length//2) :\n",
    "        if num_list[i] == num_list[length-i-1]:\n",
    "            continue\n",
    "        else :\n",
    "            count = 1\n",
    "            break\n",
    "    if count == 0 :\n",
    "        print('yes')\n",
    "    else :\n",
    "        print('no')"
   ]
  },
  {
   "cell_type": "code",
   "execution_count": null,
   "metadata": {},
   "outputs": [],
   "source": []
  },
  {
   "cell_type": "code",
   "execution_count": null,
   "metadata": {},
   "outputs": [],
   "source": []
  }
 ],
 "metadata": {
  "kernelspec": {
   "display_name": "Python 3",
   "language": "python",
   "name": "python3"
  },
  "language_info": {
   "codemirror_mode": {
    "name": "ipython",
    "version": 3
   },
   "file_extension": ".py",
   "mimetype": "text/x-python",
   "name": "python",
   "nbconvert_exporter": "python",
   "pygments_lexer": "ipython3",
   "version": "3.12.6"
  }
 },
 "nbformat": 4,
 "nbformat_minor": 2
}

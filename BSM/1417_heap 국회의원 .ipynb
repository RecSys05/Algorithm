{
 "cells": [
  {
   "cell_type": "code",
   "execution_count": null,
   "metadata": {
    "vscode": {
     "languageId": "plaintext"
    }
   },
   "outputs": [],
   "source": [
    "import heapq \n",
    "\n",
    "n = int(input())\n",
    "target = int(input())\n",
    "heap = []\n",
    "\n",
    "for _ in range(n-1) :\n",
    "    heapq.heappush(heap,-int(input()))\n",
    "\n",
    "count = 0\n",
    "if n == 1 :\n",
    "    pass\n",
    "else :\n",
    "    while True :\n",
    "        max_num = heapq.heappop(heap)\n",
    "        \n",
    "        if target > -max_num :\n",
    "            break \n",
    "\n",
    "        max_num +=1 # \n",
    "        heapq.heappush(heap,max_num)\n",
    "        count+=1\n",
    "        target +=1\n",
    "\n",
    "print(count)\n"
   ]
  }
 ],
 "metadata": {
  "language_info": {
   "name": "python"
  }
 },
 "nbformat": 4,
 "nbformat_minor": 2
}

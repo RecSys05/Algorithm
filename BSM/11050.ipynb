{
 "cells": [
  {
   "cell_type": "code",
   "execution_count": null,
   "metadata": {
    "vscode": {
     "languageId": "plaintext"
    }
   },
   "outputs": [],
   "source": [
    "def fac(x) :\n",
    "    mul = 1\n",
    "    for i in range(1,x+1) :\n",
    "        mul *= i\n",
    "\n",
    "    return mul\n",
    "\n",
    "m,n  = map(int,input().split())\n",
    "\n",
    "print(int(fac(m) / fac(n) / fac(m-n)))"
   ]
  }
 ],
 "metadata": {
  "language_info": {
   "name": "python"
  }
 },
 "nbformat": 4,
 "nbformat_minor": 2
}

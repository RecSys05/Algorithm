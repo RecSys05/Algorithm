{
 "cells": [
  {
   "cell_type": "code",
   "execution_count": null,
   "metadata": {},
   "outputs": [],
   "source": [
    "\n",
    "while True :\n",
    "    num_list = list(map(int,input().split()))\n",
    "    num_list.sort()\n",
    "    a = num_list[0]\n",
    "    b = num_list[1]\n",
    "    c = num_list[2]\n",
    "\n",
    "    if a==b==c==0 :\n",
    "        break\n",
    "\n",
    "    if c ** 2 == (a**2 + b**2) :\n",
    "        print('right')\n",
    "    else :\n",
    "        print('wrong')"
   ]
  },
  {
   "cell_type": "code",
   "execution_count": null,
   "metadata": {},
   "outputs": [],
   "source": []
  },
  {
   "cell_type": "code",
   "execution_count": null,
   "metadata": {},
   "outputs": [],
   "source": []
  }
 ],
 "metadata": {
  "kernelspec": {
   "display_name": "Python 3",
   "language": "python",
   "name": "python3"
  },
  "language_info": {
   "name": "python",
   "version": "3.12.6"
  }
 },
 "nbformat": 4,
 "nbformat_minor": 2
}

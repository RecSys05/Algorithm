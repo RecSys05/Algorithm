{
 "cells": [
  {
   "cell_type": "code",
   "execution_count": null,
   "metadata": {
    "vscode": {
     "languageId": "plaintext"
    }
   },
   "outputs": [],
   "source": [
    "n =int(input())\n",
    "target = int(input())\n",
    "num_list =  [int(input()) for _ in range(n-1)]\n",
    "count = 0\n",
    "\n",
    "if n == 1 :\n",
    "    pass\n",
    "else :\n",
    "    while target <= max(num_list) :\n",
    "        target +=1\n",
    "        count +=1\n",
    "        num_list[num_list.index(max(num_list))] -= 1\n",
    "\n",
    "print(count)"
   ]
  }
 ],
 "metadata": {
  "language_info": {
   "name": "python"
  }
 },
 "nbformat": 4,
 "nbformat_minor": 2
}

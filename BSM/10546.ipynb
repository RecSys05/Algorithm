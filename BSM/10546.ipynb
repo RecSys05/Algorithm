{
 "cells": [
  {
   "cell_type": "code",
   "execution_count": null,
   "metadata": {},
   "outputs": [],
   "source": [
    "import sys\n",
    "input = sys.stdin.readline\n",
    "\n",
    "n = int(input())\n",
    "\n",
    "name_dict = {}\n",
    "\n",
    "for _ in range(n*2-1) :\n",
    "    name = input()\n",
    "\n",
    "    if name in name_dict.keys() :\n",
    "        if name_dict[name] == 0 :\n",
    "            name_dict[name] +=1\n",
    "        else :\n",
    "            name_dict[name] -=1 \n",
    "    \n",
    "    else :\n",
    "        name_dict[name] = 1\n",
    "\n",
    "ans = [k for k,v in name_dict.items() if v == 1]\n",
    "\n",
    "print(ans[0])"
   ]
  },
  {
   "cell_type": "code",
   "execution_count": 7,
   "metadata": {},
   "outputs": [
    {
     "data": {
      "text/plain": [
       "[]"
      ]
     },
     "execution_count": 7,
     "metadata": {},
     "output_type": "execute_result"
    }
   ],
   "source": [
    "ans"
   ]
  },
  {
   "cell_type": "code",
   "execution_count": 4,
   "metadata": {},
   "outputs": [
    {
     "name": "stdout",
     "output_type": "stream",
     "text": [
      "2\n"
     ]
    }
   ],
   "source": [
    "name_dict = {\"Alice\": 2, \"Bob\": 1, \"Charlie\": 1}\n",
    "\n",
    "result = [v for k, v in name_dict.items() if v > 1]\n",
    "print(result[0])\n"
   ]
  },
  {
   "cell_type": "code",
   "execution_count": null,
   "metadata": {},
   "outputs": [],
   "source": []
  }
 ],
 "metadata": {
  "kernelspec": {
   "display_name": "Python 3",
   "language": "python",
   "name": "python3"
  },
  "language_info": {
   "codemirror_mode": {
    "name": "ipython",
    "version": 3
   },
   "file_extension": ".py",
   "mimetype": "text/x-python",
   "name": "python",
   "nbconvert_exporter": "python",
   "pygments_lexer": "ipython3",
   "version": "3.12.6"
  }
 },
 "nbformat": 4,
 "nbformat_minor": 2
}

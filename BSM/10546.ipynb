{
 "cells": [
  {
   "cell_type": "code",
   "execution_count": null,
   "metadata": {},
   "outputs": [],
   "source": [
    "import sys\n",
    "input = sys.stdin.readline\n",
    "\n",
    "n = int(input())\n",
    "\n",
    "name_dict = {}\n",
    "\n",
    "for _ in range(n*2-1) :\n",
    "    name = input()\n",
    "\n",
    "    if name in name_dict.keys() :\n",
    "        if name_dict[name] == 0 :\n",
    "            name_dict[name] +=1\n",
    "        else :\n",
    "            name_dict[name] -=1 \n",
    "    \n",
    "    else :\n",
    "        name_dict[name] = 1\n",
    "\n",
    "ans = [k for k,v in name_dict.items() if v == 1]\n",
    "\n",
    "print(ans[0])"
   ]
  },
  {
   "cell_type": "code",
   "execution_count": null,
   "metadata": {},
   "outputs": [],
   "source": [
    "import sys\n",
    "input = sys.stdin.readline\n",
    "\n",
    "n = int(input())\n",
    "\n",
    "name_dict = {}\n",
    "\n",
    "for _ in range(n*2-1) :\n",
    "    name = input()\n",
    "\n",
    "    if name in name_dict.keys() :\n",
    "        name_dict[name] +=1\n",
    "    else :\n",
    "        name_dict[name] = 1\n",
    "\n",
    "ans = [ k for k,v in name_dict.items() if v % 2 == 1]\n",
    "\n",
    "print(ans[0])"
   ]
  }
 ],
 "metadata": {
  "kernelspec": {
   "display_name": "Python 3",
   "language": "python",
   "name": "python3"
  },
  "language_info": {
   "codemirror_mode": {
    "name": "ipython",
    "version": 3
   },
   "file_extension": ".py",
   "mimetype": "text/x-python",
   "name": "python",
   "nbconvert_exporter": "python",
   "pygments_lexer": "ipython3",
   "version": "3.12.6"
  }
 },
 "nbformat": 4,
 "nbformat_minor": 2
}

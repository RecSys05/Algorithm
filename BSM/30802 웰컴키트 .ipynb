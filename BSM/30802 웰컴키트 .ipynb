{
 "cells": [
  {
   "cell_type": "code",
   "execution_count": 11,
   "metadata": {},
   "outputs": [],
   "source": [
    "n = int(input())\n",
    "\n",
    "num_list = list(map(int,input().split()))\n",
    "\n",
    "T, P = map(int,input().split())\n",
    "\n",
    "result = []\n",
    "\n",
    "for num in num_list:\n",
    "    quotient = num // T\n",
    "    if num % T == 0:\n",
    "        result.append(quotient)\n",
    "    else:\n",
    "        result.append(quotient + 1)\n",
    "\n",
    "\n",
    "print(sum(result))\n",
    "\n",
    "print( (n//P),(n%P))"
   ]
  },
  {
   "cell_type": "code",
   "execution_count": null,
   "metadata": {},
   "outputs": [],
   "source": []
  }
 ],
 "metadata": {
  "kernelspec": {
   "display_name": "Python 3",
   "language": "python",
   "name": "python3"
  },
  "language_info": {
   "codemirror_mode": {
    "name": "ipython",
    "version": 3
   },
   "file_extension": ".py",
   "mimetype": "text/x-python",
   "name": "python",
   "nbconvert_exporter": "python",
   "pygments_lexer": "ipython3",
   "version": "3.12.6"
  }
 },
 "nbformat": 4,
 "nbformat_minor": 2
}
